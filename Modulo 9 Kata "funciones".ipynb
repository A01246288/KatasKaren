{
 "cells": [
  {
   "cell_type": "markdown",
   "metadata": {},
   "source": [
    "# Ejercicio: Uso de funciones en Python\n",
    "### Ejercicio 1: Trabajar con argumentos en funciones\n",
    "\n",
    "En este ejercicio, construirás un informe de combustible que requiere información de varias ubicaciones de combustible en todo el cohete."
   ]
  },
  {
   "cell_type": "code",
   "execution_count": 6,
   "metadata": {},
   "outputs": [],
   "source": [
    "#Función para leer 3 tanques de combustible y promedio\n",
    "def generate_report(tanque1, tanque2, tanque3):\n",
    "    Promedio = (tanque1 + tanque2 + tanque3) / 3\n",
    "    return f\"\"\"Reporte de Combustible:\n",
    "    Tanque 1: {tanque1}%\n",
    "    Tanque 2: {tanque2}%\n",
    "    Tanque 3: {tanque3}% \n",
    "    Promedio: {Promedio}%\n",
    "    \"\"\"\n"
   ]
  },
  {
   "cell_type": "code",
   "execution_count": 7,
   "metadata": {},
   "outputs": [
    {
     "name": "stdout",
     "output_type": "stream",
     "text": [
      "Reporte de Combustible:\n",
      "    Tanque 1: 80%\n",
      "    Tanque 2: 70%\n",
      "    Tanque 3: 85% \n",
      "    Promedio: 78.33333333333333%\n",
      "    \n"
     ]
    }
   ],
   "source": [
    "#Reporte\n",
    "print(generate_report(80, 70, 85))"
   ]
  },
  {
   "cell_type": "code",
   "execution_count": 9,
   "metadata": {},
   "outputs": [
    {
     "data": {
      "text/plain": [
       "82.0"
      ]
     },
     "execution_count": 9,
     "metadata": {},
     "output_type": "execute_result"
    }
   ],
   "source": [
    "#Función promedio\n",
    "def average(values):\n",
    "    total = sum(values)\n",
    "    number_of_items = len(values)\n",
    "    return total / number_of_items\n",
    "average([80, 85, 81]) "
   ]
  },
  {
   "cell_type": "code",
   "execution_count": 11,
   "metadata": {},
   "outputs": [
    {
     "name": "stdout",
     "output_type": "stream",
     "text": [
      "Reporte de combustible:\n",
      "    Tanque 1: 88%\n",
      "    Tanque 2: 76%\n",
      "    Tanque 3: 70% \n",
      "    Promedio Total: 78.0%\n",
      "    \n"
     ]
    }
   ],
   "source": [
    "#Función actualizada\n",
    "def generate_report(tanque1, tanque2, tanque3):\n",
    "    return f\"\"\"Reporte de combustible:\n",
    "    Tanque 1: {tanque1}%\n",
    "    Tanque 2: {tanque2}%\n",
    "    Tanque 3: {tanque3}% \n",
    "    Promedio Total: {average([tanque1, tanque2, tanque3])}%\n",
    "    \"\"\"\n",
    "\n",
    "#Reporte\n",
    "print(generate_report(88, 76, 70))"
   ]
  },
  {
   "cell_type": "markdown",
   "metadata": {},
   "source": [
    "## Ejercicio 2: Trabajo con argumentos de palabra clave\n",
    "En este ejercicio, construirás un informe de cohete que requiere varias piezas de información, como el tiempo hasta el destino, el combustible a la izquierda y el nombre del destino. Comienza por crear una función que creará un informe preciso de la misión:"
   ]
  },
  {
   "cell_type": "code",
   "execution_count": 23,
   "metadata": {},
   "outputs": [
    {
     "name": "stdout",
     "output_type": "stream",
     "text": [
      "\n",
      "    Mision hacia Marte\n",
      "    Tiempo de vuelo: 65 minutos\n",
      "    Combustible restante: 500000 galones\n",
      "    \n"
     ]
    }
   ],
   "source": [
    "#Función de informe con hora de prelanzamiento, tiempo de vuelo, destino, tanque externo y tanque interno\n",
    "\n",
    "def reportemision(prelanzamiento, tiempovuelo, destino, tanqueext, tanqueint):\n",
    "    return f\"\"\"\n",
    "    Mision hacia {destino}\n",
    "    Tiempo de vuelo: {prelanzamiento + tiempovuelo} minutos\n",
    "    Combustible restante: {tanqueext + tanqueint} galones\n",
    "    \"\"\"\n",
    "\n",
    "print(reportemision(14, 51, \"Marte\", 200000, 300000))"
   ]
  },
  {
   "cell_type": "code",
   "execution_count": 31,
   "metadata": {},
   "outputs": [
    {
     "name": "stdout",
     "output_type": "stream",
     "text": [
      "\n",
      "    Mision hacia Marte\n",
      "    Tiempo de viaje: 76 minutos\n",
      "    Combustible restante: 500000 galones\n",
      "    \n"
     ]
    }
   ],
   "source": [
    "#Nueva función de reporte\n",
    "\n",
    "def reportemision(destino, *minutos, **reservacombust):\n",
    "    return f\"\"\"\n",
    "    Mision hacia {destino}\n",
    "    Tiempo de viaje: {sum(minutos)} minutos\n",
    "    Combustible restante: {sum(reservacombust.values())} galones\n",
    "    \"\"\"\n",
    "\n",
    "print(reportemision(\"Marte\", 10, 15, 51, main=300000, external=200000))"
   ]
  },
  {
   "cell_type": "code",
   "execution_count": 47,
   "metadata": {},
   "outputs": [
    {
     "name": "stdout",
     "output_type": "stream",
     "text": [
      "\n",
      "    Mision hacia Marte\n",
      "    Toiempo de viaje: 74 minutos\n",
      "    Combustible total restante: 500000 galones\n",
      "    main tank --> 300000 galones restantes\n",
      "external tank --> 200000 galones restantes\n",
      "\n"
     ]
    }
   ],
   "source": [
    "#Nueva función\n",
    "\n",
    "def reportemision(destino, *minutos, **reservacombust):\n",
    "    reporte = f\"\"\"\n",
    "    Mision hacia {destino}\n",
    "    Toiempo de viaje: {sum(minutos)} minutos\n",
    "    Combustible total restante: {sum(reservacombust.values())} galones\n",
    "    \"\"\"\n",
    "    for tanque, galones in reservacombust.items():\n",
    "        reporte += f\"{tanque} tank --> {galones} galones restantes\\n\"\n",
    "    return reporte\n",
    "\n",
    "print(reportemision(\"Marte\", 8, 11, 55, main=300000, external=200000))"
   ]
  }
 ],
 "metadata": {
  "interpreter": {
   "hash": "aee8b7b246df8f9039afb4144a1f6fd8d2ca17a180786b69acc140d282b71a49"
  },
  "kernelspec": {
   "display_name": "Python 3.10.2 64-bit",
   "language": "python",
   "name": "python3"
  },
  "language_info": {
   "codemirror_mode": {
    "name": "ipython",
    "version": 3
   },
   "file_extension": ".py",
   "mimetype": "text/x-python",
   "name": "python",
   "nbconvert_exporter": "python",
   "pygments_lexer": "ipython3",
   "version": "3.10.2"
  },
  "orig_nbformat": 4
 },
 "nbformat": 4,
 "nbformat_minor": 2
}
